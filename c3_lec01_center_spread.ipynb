{
 "cells": [
  {
   "cell_type": "markdown",
   "metadata": {},
   "source": [
    "## Foundations of Data Science: Prediction and Machine Learning\n",
    "\n",
    "Mirroring course Jupyter notebook except using standard modules instead of Berkeley data science module.\n",
    "\n",
    "## Lecture 1: Center and Spread"
   ]
  },
  {
   "cell_type": "code",
   "execution_count": 103,
   "metadata": {},
   "outputs": [],
   "source": [
    "import numpy as np\n",
    "import matplotlib.pyplot as plt\n",
    "import pandas as pd\n",
    "\n",
    "%matplotlib inline\n",
    "plt.style.use('fivethirtyeight')\n",
    "plt.rcParams['figure.figsize'] = (10.0, 6.0)\n",
    "pd.options.display.float_format = '{:,.2f}'.format\n",
    "pd.set_option('max_columns', 50)\n",
    "pd.set_option('max_rows', 9)"
   ]
  },
  {
   "cell_type": "markdown",
   "metadata": {},
   "source": [
    "### Mean"
   ]
  },
  {
   "cell_type": "code",
   "execution_count": 42,
   "metadata": {},
   "outputs": [
    {
     "name": "stdout",
     "output_type": "stream",
     "text": [
      "4.25\n",
      "4.25\n"
     ]
    },
    {
     "data": {
      "text/html": [
       "<div>\n",
       "<style scoped>\n",
       "    .dataframe tbody tr th:only-of-type {\n",
       "        vertical-align: middle;\n",
       "    }\n",
       "\n",
       "    .dataframe tbody tr th {\n",
       "        vertical-align: top;\n",
       "    }\n",
       "\n",
       "    .dataframe thead th {\n",
       "        text-align: right;\n",
       "    }\n",
       "</style>\n",
       "<table border=\"1\" class=\"dataframe\">\n",
       "  <thead>\n",
       "    <tr style=\"text-align: right;\">\n",
       "      <th></th>\n",
       "      <th>values</th>\n",
       "    </tr>\n",
       "  </thead>\n",
       "  <tbody>\n",
       "    <tr>\n",
       "      <th>0</th>\n",
       "      <td>2</td>\n",
       "    </tr>\n",
       "    <tr>\n",
       "      <th>1</th>\n",
       "      <td>3</td>\n",
       "    </tr>\n",
       "    <tr>\n",
       "      <th>2</th>\n",
       "      <td>3</td>\n",
       "    </tr>\n",
       "    <tr>\n",
       "      <th>3</th>\n",
       "      <td>9</td>\n",
       "    </tr>\n",
       "  </tbody>\n",
       "</table>\n",
       "</div>"
      ],
      "text/plain": [
       "   values\n",
       "0       2\n",
       "1       3\n",
       "2       3\n",
       "3       9"
      ]
     },
     "metadata": {},
     "output_type": "display_data"
    },
    {
     "data": {
      "text/plain": [
       "4.25"
      ]
     },
     "execution_count": 42,
     "metadata": {},
     "output_type": "execute_result"
    }
   ],
   "source": [
    "# Mean\n",
    "values = np.array([2, 3, 3, 9])\n",
    "print(values.mean())\n",
    "print(np.mean(values))\n",
    "\n",
    "values_table = pd.DataFrame({'values':values})\n",
    "display(values_table)\n",
    "values_table.values.mean()"
   ]
  },
  {
   "cell_type": "code",
   "execution_count": 44,
   "metadata": {},
   "outputs": [
    {
     "data": {
      "image/png": "[encoded data removed]",
      "text/plain": [
       "<Figure size 432x288 with 1 Axes>"
      ]
     },
     "metadata": {},
     "output_type": "display_data"
    }
   ],
   "source": [
    "# Histogram\n",
    "#   mean is center of gravity\n",
    "values_table.plot.hist(bins=np.arange(0.5, 10.6, 1), ec='w')\n",
    "plt.scatter(values_table.values.mean(), 0,\n",
    "            color='red', zorder=2, marker='^', s=100)\n",
    "plt.show()\n"
   ]
  },
  {
   "cell_type": "code",
   "execution_count": 50,
   "metadata": {},
   "outputs": [
    {
     "data": {
      "text/plain": [
       "4.25"
      ]
     },
     "execution_count": 50,
     "metadata": {},
     "output_type": "execute_result"
    }
   ],
   "source": [
    "# Mean does not depend on length of array\n",
    "values = np.array([2, 3, 3, 9] * 100)\n",
    "values.mean()"
   ]
  },
  {
   "cell_type": "markdown",
   "metadata": {},
   "source": [
    "### Median"
   ]
  },
  {
   "cell_type": "code",
   "execution_count": 72,
   "metadata": {},
   "outputs": [
    {
     "name": "stdout",
     "output_type": "stream",
     "text": [
      "3.0\n",
      "3.0\n",
      "3.0\n"
     ]
    }
   ],
   "source": [
    "# Median - halfway point of data indicies\n",
    "values = np.array([1] * 1 + [2] * 2 + [3] * 3 + [4] * 2 + [5] * 1)\n",
    "print(np.mean(values))\n",
    "print(np.median(values))\n",
    "print(np.percentile(values, 50))"
   ]
  },
  {
   "cell_type": "code",
   "execution_count": 69,
   "metadata": {},
   "outputs": [
    {
     "name": "stdout",
     "output_type": "stream",
     "text": [
      "3.5555555555555554\n",
      "3.0\n"
     ]
    },
    {
     "data": {
      "text/plain": [
       "3.0"
      ]
     },
     "execution_count": 69,
     "metadata": {},
     "output_type": "execute_result"
    }
   ],
   "source": [
    "# Mean more affected by outliers and skew\n",
    "values = np.array([1] * 1 + [2] * 2 + [3] * 3 + [4] * 2 + [10] * 1)\n",
    "print(np.mean(values))\n",
    "print(np.median(values))"
   ]
  },
  {
   "cell_type": "code",
   "execution_count": 81,
   "metadata": {},
   "outputs": [
    {
     "data": {
      "image/png": "[encoded data removed]",
      "text/plain": [
       "<Figure size 432x288 with 1 Axes>"
      ]
     },
     "metadata": {},
     "output_type": "display_data"
    },
    {
     "name": "stdout",
     "output_type": "stream",
     "text": [
      "79.06534653465347\n",
      "80.0\n"
     ]
    }
   ],
   "source": [
    "nba = pd.read_csv('data/nba2013.csv')\n",
    "nba.hist('Height', bins=np.arange(65.5, 90.5), ec='w')\n",
    "plt.show()\n",
    "\n",
    "print(nba['Height'].mean())\n",
    "print(np.median(nba['Height']))"
   ]
  },
  {
   "cell_type": "markdown",
   "metadata": {},
   "source": [
    "### Standard deviation"
   ]
  },
  {
   "cell_type": "code",
   "execution_count": 98,
   "metadata": {},
   "outputs": [
    {
     "name": "stdout",
     "output_type": "stream",
     "text": [
      "4.25\n",
      "7.6875\n",
      "2.7726341266023544\n",
      "2.7726341266023544\n",
      "3.2015621187164243\n"
     ]
    }
   ],
   "source": [
    "print(np.mean(values_table['values']))  # mean\n",
    "print(np.var(values_table['values']))  # variance\n",
    "print(np.sqrt(np.var(values_table['values'])))  # standard deviation (sqrt(var))\n",
    "print(np.std(values_table['values']))  # population standard deviation\n",
    "print(np.std(values_table['values'], ddof=1))  # Sample standard deviation"
   ]
  },
  {
   "cell_type": "markdown",
   "metadata": {},
   "source": [
    "### Chebyshev's Bounds\n",
    "\n",
    "Regardless of the shape of a distribution, the proportion of the data within z standard deviations is at least (1 - (1 / z ^ 2))"
   ]
  },
  {
   "cell_type": "code",
   "execution_count": 120,
   "metadata": {},
   "outputs": [
    {
     "data": {
      "image/png": "[encoded data removed]",
      "text/plain": [
       "<Figure size 720x720 with 6 Axes>"
      ]
     },
     "metadata": {},
     "output_type": "display_data"
    }
   ],
   "source": [
    "births = pd.read_csv('data/baby.csv')\n",
    "births.hist(figsize=(10, 10))\n",
    "plt.tight_layout()\n",
    "plt.show()"
   ]
  },
  {
   "cell_type": "code",
   "execution_count": 170,
   "metadata": {},
   "outputs": [
    {
     "name": "stdout",
     "output_type": "stream",
     "text": [
      "Birth Weight\n",
      "  Within +/- 2 SDs =  94.89%\n",
      "  Within +/- 3 SDs =  99.57%\n",
      "  Within +/- 4 SDs = 100.00%\n",
      "  Within +/- 5 SDs = 100.00%\n",
      "\n",
      "Gestational Days\n",
      "  Within +/- 2 SDs =  93.78%\n",
      "  Within +/- 3 SDs =  98.64%\n",
      "  Within +/- 4 SDs =  99.57%\n",
      "  Within +/- 5 SDs =  99.83%\n",
      "\n",
      "Maternal Age\n",
      "  Within +/- 2 SDs =  94.89%\n",
      "  Within +/- 3 SDs =  99.91%\n",
      "  Within +/- 4 SDs = 100.00%\n",
      "  Within +/- 5 SDs = 100.00%\n",
      "\n",
      "Maternal Height\n",
      "  Within +/- 2 SDs =  97.19%\n",
      "  Within +/- 3 SDs =  99.66%\n",
      "  Within +/- 4 SDs =  99.91%\n",
      "  Within +/- 5 SDs = 100.00%\n",
      "\n",
      "Maternal Pregnancy Weight\n",
      "  Within +/- 2 SDs =  95.06%\n",
      "  Within +/- 3 SDs =  98.64%\n",
      "  Within +/- 4 SDs =  99.49%\n",
      "  Within +/- 5 SDs =  99.91%\n",
      "\n",
      "Maternal Smoker\n",
      "  Within +/- 2 SDs = 100.00%\n",
      "  Within +/- 3 SDs = 100.00%\n",
      "  Within +/- 4 SDs = 100.00%\n",
      "  Within +/- 5 SDs = 100.00%\n",
      "\n"
     ]
    }
   ],
   "source": [
    "n = len(births)\n",
    "births['Maternal Smoker'] = births['Maternal Smoker'].astype(int)\n",
    "births_describe = births.describe()\n",
    "# Alternatively\n",
    "# births_descrbe = pd.concat([births.mean(), births.std()],\n",
    "#                            axis=1, keys=['mean', 'std'])\n",
    "\n",
    "#for column in ['Birth Weight', 'Gestational Days']:   # births.columns:\n",
    "for column in births.columns:\n",
    "    print(column)\n",
    "    for z in [2, 3, 4, 5]:\n",
    "\n",
    "        mean = births_describe[column]['mean']\n",
    "        std = births_describe[column]['std']\n",
    "        lower_bound = mean - z * std\n",
    "        upper_bound = mean + z * std\n",
    "\n",
    "        proportion = (len(births[column].loc[(births[column] > lower_bound) &\n",
    "                                             (births[column] < upper_bound)]) \n",
    "                      / n * 100)\n",
    "        \n",
    "        print('  Within +/- {0} SDs = {1:6.2f}%'.format(z, proportion))\n",
    "    print()\n",
    "        "
   ]
  },
  {
   "cell_type": "code",
   "execution_count": null,
   "metadata": {},
   "outputs": [],
   "source": []
  },
  {
   "cell_type": "code",
   "execution_count": null,
   "metadata": {},
   "outputs": [],
   "source": []
  },
  {
   "cell_type": "code",
   "execution_count": null,
   "metadata": {},
   "outputs": [],
   "source": []
  }
 ],
 "metadata": {
  "kernelspec": {
   "display_name": "Python 3",
   "language": "python",
   "name": "python3"
  },
  "language_info": {
   "codemirror_mode": {
    "name": "ipython",
    "version": 3
   },
   "file_extension": ".py",
   "mimetype": "text/x-python",
   "name": "python",
   "nbconvert_exporter": "python",
   "pygments_lexer": "ipython3",
   "version": "3.6.3"
  },
  "varInspector": {
   "cols": {
    "lenName": 16,
    "lenType": 16,
    "lenVar": 40
   },
   "kernels_config": {
    "python": {
     "delete_cmd_postfix": "",
     "delete_cmd_prefix": "del ",
     "library": "var_list.py",
     "varRefreshCmd": "print(var_dic_list())"
    },
    "r": {
     "delete_cmd_postfix": ") ",
     "delete_cmd_prefix": "rm(",
     "library": "var_list.r",
     "varRefreshCmd": "cat(var_dic_list()) "
    }
   },
   "types_to_exclude": [
    "module",
    "function",
    "builtin_function_or_method",
    "instance",
    "_Feature"
   ],
   "window_display": false
  }
 },
 "nbformat": 4,
 "nbformat_minor": 2
}
