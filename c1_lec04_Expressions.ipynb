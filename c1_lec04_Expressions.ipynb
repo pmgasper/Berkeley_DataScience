{
 "cells": [
  {
   "cell_type": "markdown",
   "metadata": {},
   "source": [
    "## Foundations of Data Science: Computational Thinking with Python\n",
    "\n",
    "Mirroring course Jupyter notebook except using standard modules instead of Berkeley data science module.\n",
    "\n",
    "## Lecture 4: Expressions "
   ]
  },
  {
   "cell_type": "code",
   "execution_count": 1,
   "metadata": {},
   "outputs": [],
   "source": [
    "import matplotlib.pyplot as plt\n",
    "import numpy as np\n",
    "import pandas as pd\n",
    "\n",
    "%matplotlib inline\n",
    "plt.style.use('fivethirtyeight')"
   ]
  },
  {
   "cell_type": "markdown",
   "metadata": {},
   "source": [
    "### Growth"
   ]
  },
  {
   "cell_type": "code",
   "execution_count": 2,
   "metadata": {},
   "outputs": [
    {
     "data": {
      "text/plain": [
       "1.385792349726776"
      ]
     },
     "execution_count": 2,
     "metadata": {},
     "output_type": "execute_result"
    }
   ],
   "source": [
    "sept_7 = 4366\n",
    "aug_7 = 1830\n",
    "growth_per_month = (sept_7 / aug_7) - 1\n",
    "growth_per_month"
   ]
  },
  {
   "cell_type": "code",
   "execution_count": 3,
   "metadata": {},
   "outputs": [
    {
     "data": {
      "text/plain": [
       "148482554.67988718"
      ]
     },
     "execution_count": 3,
     "metadata": {},
     "output_type": "execute_result"
    }
   ],
   "source": [
    "sept_7 * (1 + growth_per_month) ** 12"
   ]
  },
  {
   "cell_type": "code",
   "execution_count": 4,
   "metadata": {},
   "outputs": [
    {
     "data": {
      "text/plain": [
       "1010000000000"
      ]
     },
     "execution_count": 4,
     "metadata": {},
     "output_type": "execute_result"
    }
   ],
   "source": [
    "fed_budget_2002 = 2370000000000\n",
    "fed_budget_2012 = 3380000000000\n",
    "fed_budget_2012 - fed_budget_2002"
   ]
  },
  {
   "cell_type": "code",
   "execution_count": 5,
   "metadata": {},
   "outputs": [
    {
     "data": {
      "text/plain": [
       "0.03613617208346853"
      ]
     },
     "execution_count": 5,
     "metadata": {},
     "output_type": "execute_result"
    }
   ],
   "source": [
    "g = (fed_budget_2012 / fed_budget_2002) ** (1/10) - 1\n",
    "g"
   ]
  },
  {
   "cell_type": "code",
   "execution_count": 6,
   "metadata": {},
   "outputs": [
    {
     "data": {
      "text/plain": [
       "4182324373087.768"
      ]
     },
     "execution_count": 6,
     "metadata": {},
     "output_type": "execute_result"
    }
   ],
   "source": [
    "fed_budget_2002 * (1 + g) ** 16 # Actual 2018 budget: $4.1 trillion"
   ]
  },
  {
   "cell_type": "markdown",
   "metadata": {},
   "source": [
    "### Arrays"
   ]
  },
  {
   "cell_type": "code",
   "execution_count": 7,
   "metadata": {},
   "outputs": [
    {
     "data": {
      "text/plain": [
       "array([1, 2, 3])"
      ]
     },
     "execution_count": 7,
     "metadata": {},
     "output_type": "execute_result"
    }
   ],
   "source": [
    "a = np.array([1,2,3])\n",
    "a"
   ]
  },
  {
   "cell_type": "code",
   "execution_count": 8,
   "metadata": {},
   "outputs": [
    {
     "data": {
      "text/plain": [
       "array([2, 4, 6])"
      ]
     },
     "execution_count": 8,
     "metadata": {},
     "output_type": "execute_result"
    }
   ],
   "source": [
    "a * 2"
   ]
  },
  {
   "cell_type": "code",
   "execution_count": 9,
   "metadata": {},
   "outputs": [
    {
     "data": {
      "text/plain": [
       "array([6, 7, 8])"
      ]
     },
     "execution_count": 9,
     "metadata": {},
     "output_type": "execute_result"
    }
   ],
   "source": [
    "a + 5"
   ]
  },
  {
   "cell_type": "code",
   "execution_count": 10,
   "metadata": {},
   "outputs": [
    {
     "data": {
      "text/plain": [
       "array([  11,  102, 1003])"
      ]
     },
     "execution_count": 10,
     "metadata": {},
     "output_type": "execute_result"
    }
   ],
   "source": [
    "b = np.array([10, 100, 1000])\n",
    "a + b"
   ]
  },
  {
   "cell_type": "code",
   "execution_count": 11,
   "metadata": {},
   "outputs": [
    {
     "name": "stdout",
     "output_type": "stream",
     "text": [
      "6\n",
      "1\n",
      "3\n"
     ]
    }
   ],
   "source": [
    "print(sum(a))\n",
    "print(min(a))\n",
    "print(max(a))"
   ]
  },
  {
   "cell_type": "code",
   "execution_count": 12,
   "metadata": {},
   "outputs": [
    {
     "data": {
      "text/plain": [
       "array([2.45564273e+12, 2.54438026e+12, 2.63632442e+12])"
      ]
     },
     "execution_count": 12,
     "metadata": {},
     "output_type": "execute_result"
    }
   ],
   "source": [
    "fed_budget_2002 * (1 + g) ** a"
   ]
  },
  {
   "cell_type": "markdown",
   "metadata": {},
   "source": [
    "### Columns"
   ]
  },
  {
   "cell_type": "code",
   "execution_count": 13,
   "metadata": {},
   "outputs": [
    {
     "data": {
      "text/plain": [
       "0    1939\n",
       "1    1977\n",
       "2    1965\n",
       "3    1982\n",
       "4    1997\n",
       "Name: Year, dtype: int64"
      ]
     },
     "execution_count": 13,
     "metadata": {},
     "output_type": "execute_result"
    }
   ],
   "source": [
    "movies = pd.read_csv('data/top_movies_2017.csv')\n",
    "\n",
    "# Numpy-like lookup up (comp inefficient)\n",
    "movies['Year'].head(5)"
   ]
  },
  {
   "cell_type": "code",
   "execution_count": 14,
   "metadata": {},
   "outputs": [
    {
     "data": {
      "text/html": [
       "<div>\n",
       "<style scoped>\n",
       "    .dataframe tbody tr th:only-of-type {\n",
       "        vertical-align: middle;\n",
       "    }\n",
       "\n",
       "    .dataframe tbody tr th {\n",
       "        vertical-align: top;\n",
       "    }\n",
       "\n",
       "    .dataframe thead th {\n",
       "        text-align: right;\n",
       "    }\n",
       "</style>\n",
       "<table border=\"1\" class=\"dataframe\">\n",
       "  <thead>\n",
       "    <tr style=\"text-align: right;\">\n",
       "      <th></th>\n",
       "      <th>Title</th>\n",
       "      <th>Studio</th>\n",
       "      <th>Gross</th>\n",
       "      <th>Gross (Adjusted)</th>\n",
       "      <th>Year</th>\n",
       "    </tr>\n",
       "  </thead>\n",
       "  <tbody>\n",
       "    <tr>\n",
       "      <th>0</th>\n",
       "      <td>Gone with the Wind</td>\n",
       "      <td>MGM</td>\n",
       "      <td>198676459</td>\n",
       "      <td>1796176700</td>\n",
       "      <td>1939</td>\n",
       "    </tr>\n",
       "    <tr>\n",
       "      <th>1</th>\n",
       "      <td>Star Wars</td>\n",
       "      <td>Fox</td>\n",
       "      <td>460998007</td>\n",
       "      <td>1583483200</td>\n",
       "      <td>1977</td>\n",
       "    </tr>\n",
       "    <tr>\n",
       "      <th>2</th>\n",
       "      <td>The Sound of Music</td>\n",
       "      <td>Fox</td>\n",
       "      <td>158671368</td>\n",
       "      <td>1266072700</td>\n",
       "      <td>1965</td>\n",
       "    </tr>\n",
       "    <tr>\n",
       "      <th>3</th>\n",
       "      <td>E.T.: The Extra-Terrestrial</td>\n",
       "      <td>Universal</td>\n",
       "      <td>435110554</td>\n",
       "      <td>1261085000</td>\n",
       "      <td>1982</td>\n",
       "    </tr>\n",
       "    <tr>\n",
       "      <th>4</th>\n",
       "      <td>Titanic</td>\n",
       "      <td>Paramount</td>\n",
       "      <td>658672302</td>\n",
       "      <td>1204368000</td>\n",
       "      <td>1997</td>\n",
       "    </tr>\n",
       "    <tr>\n",
       "      <th>5</th>\n",
       "      <td>The Ten Commandments</td>\n",
       "      <td>Paramount</td>\n",
       "      <td>65500000</td>\n",
       "      <td>1164590000</td>\n",
       "      <td>1956</td>\n",
       "    </tr>\n",
       "    <tr>\n",
       "      <th>6</th>\n",
       "      <td>Jaws</td>\n",
       "      <td>Universal</td>\n",
       "      <td>260000000</td>\n",
       "      <td>1138620700</td>\n",
       "      <td>1975</td>\n",
       "    </tr>\n",
       "    <tr>\n",
       "      <th>7</th>\n",
       "      <td>Doctor Zhivago</td>\n",
       "      <td>MGM</td>\n",
       "      <td>111721910</td>\n",
       "      <td>1103564200</td>\n",
       "      <td>1965</td>\n",
       "    </tr>\n",
       "    <tr>\n",
       "      <th>8</th>\n",
       "      <td>The Exorcist</td>\n",
       "      <td>Warner Brothers</td>\n",
       "      <td>232906145</td>\n",
       "      <td>983226600</td>\n",
       "      <td>1973</td>\n",
       "    </tr>\n",
       "    <tr>\n",
       "      <th>9</th>\n",
       "      <td>Snow White and the Seven Dwarves</td>\n",
       "      <td>Disney</td>\n",
       "      <td>184925486</td>\n",
       "      <td>969010000</td>\n",
       "      <td>1937</td>\n",
       "    </tr>\n",
       "    <tr>\n",
       "      <th>10</th>\n",
       "      <td>Star Wars: The Force Awakens</td>\n",
       "      <td>Buena Vista</td>\n",
       "      <td>936662225</td>\n",
       "      <td>961143200</td>\n",
       "      <td>2015</td>\n",
       "    </tr>\n",
       "    <tr>\n",
       "      <th>11</th>\n",
       "      <td>101 Dalmatians</td>\n",
       "      <td>Disney</td>\n",
       "      <td>144880014</td>\n",
       "      <td>888264400</td>\n",
       "      <td>1961</td>\n",
       "    </tr>\n",
       "    <tr>\n",
       "      <th>12</th>\n",
       "      <td>The Empire Strikes Back</td>\n",
       "      <td>Fox</td>\n",
       "      <td>290475067</td>\n",
       "      <td>872825900</td>\n",
       "      <td>1980</td>\n",
       "    </tr>\n",
       "    <tr>\n",
       "      <th>13</th>\n",
       "      <td>Ben-Hur</td>\n",
       "      <td>MGM</td>\n",
       "      <td>74000000</td>\n",
       "      <td>871220000</td>\n",
       "      <td>1959</td>\n",
       "    </tr>\n",
       "    <tr>\n",
       "      <th>14</th>\n",
       "      <td>Avatar</td>\n",
       "      <td>Fox</td>\n",
       "      <td>760507625</td>\n",
       "      <td>865082100</td>\n",
       "      <td>2009</td>\n",
       "    </tr>\n",
       "    <tr>\n",
       "      <th>15</th>\n",
       "      <td>Return of the Jedi</td>\n",
       "      <td>Fox</td>\n",
       "      <td>309306177</td>\n",
       "      <td>836188200</td>\n",
       "      <td>1983</td>\n",
       "    </tr>\n",
       "    <tr>\n",
       "      <th>16</th>\n",
       "      <td>Jurassic Park</td>\n",
       "      <td>Universal</td>\n",
       "      <td>402453882</td>\n",
       "      <td>817186200</td>\n",
       "      <td>1993</td>\n",
       "    </tr>\n",
       "    <tr>\n",
       "      <th>17</th>\n",
       "      <td>Star Wars: Episode I - The Phantom Menace</td>\n",
       "      <td>Fox</td>\n",
       "      <td>474544677</td>\n",
       "      <td>802874300</td>\n",
       "      <td>1999</td>\n",
       "    </tr>\n",
       "    <tr>\n",
       "      <th>18</th>\n",
       "      <td>The Lion King</td>\n",
       "      <td>Buena Vista</td>\n",
       "      <td>422783777</td>\n",
       "      <td>792511700</td>\n",
       "      <td>1994</td>\n",
       "    </tr>\n",
       "    <tr>\n",
       "      <th>19</th>\n",
       "      <td>The Sting</td>\n",
       "      <td>Universal</td>\n",
       "      <td>156000000</td>\n",
       "      <td>792480000</td>\n",
       "      <td>1973</td>\n",
       "    </tr>\n",
       "    <tr>\n",
       "      <th>20</th>\n",
       "      <td>Raiders of the Lost Ark</td>\n",
       "      <td>Paramount</td>\n",
       "      <td>248159971</td>\n",
       "      <td>787003100</td>\n",
       "      <td>1981</td>\n",
       "    </tr>\n",
       "    <tr>\n",
       "      <th>21</th>\n",
       "      <td>The Graduate</td>\n",
       "      <td>AVCO</td>\n",
       "      <td>104945305</td>\n",
       "      <td>760778000</td>\n",
       "      <td>1967</td>\n",
       "    </tr>\n",
       "    <tr>\n",
       "      <th>22</th>\n",
       "      <td>Fantasia</td>\n",
       "      <td>Disney</td>\n",
       "      <td>76408097</td>\n",
       "      <td>738256500</td>\n",
       "      <td>1941</td>\n",
       "    </tr>\n",
       "    <tr>\n",
       "      <th>23</th>\n",
       "      <td>Jurassic World</td>\n",
       "      <td>Universal</td>\n",
       "      <td>652270625</td>\n",
       "      <td>702747400</td>\n",
       "      <td>2015</td>\n",
       "    </tr>\n",
       "    <tr>\n",
       "      <th>24</th>\n",
       "      <td>The Godfather</td>\n",
       "      <td>Paramount</td>\n",
       "      <td>134966411</td>\n",
       "      <td>701621600</td>\n",
       "      <td>1972</td>\n",
       "    </tr>\n",
       "    <tr>\n",
       "      <th>25</th>\n",
       "      <td>Forrest Gump</td>\n",
       "      <td>Paramount</td>\n",
       "      <td>330252182</td>\n",
       "      <td>698884100</td>\n",
       "      <td>1994</td>\n",
       "    </tr>\n",
       "    <tr>\n",
       "      <th>26</th>\n",
       "      <td>Mary Poppins</td>\n",
       "      <td>Disney</td>\n",
       "      <td>102272727</td>\n",
       "      <td>695036400</td>\n",
       "      <td>1964</td>\n",
       "    </tr>\n",
       "    <tr>\n",
       "      <th>27</th>\n",
       "      <td>Grease</td>\n",
       "      <td>Paramount</td>\n",
       "      <td>188755690</td>\n",
       "      <td>684256200</td>\n",
       "      <td>1978</td>\n",
       "    </tr>\n",
       "    <tr>\n",
       "      <th>28</th>\n",
       "      <td>Marvel's The Avengers</td>\n",
       "      <td>Buena Vista</td>\n",
       "      <td>623357910</td>\n",
       "      <td>683474000</td>\n",
       "      <td>2012</td>\n",
       "    </tr>\n",
       "    <tr>\n",
       "      <th>29</th>\n",
       "      <td>Thunderball</td>\n",
       "      <td>United Artists</td>\n",
       "      <td>63595658</td>\n",
       "      <td>664972000</td>\n",
       "      <td>1965</td>\n",
       "    </tr>\n",
       "    <tr>\n",
       "      <th>...</th>\n",
       "      <td>...</td>\n",
       "      <td>...</td>\n",
       "      <td>...</td>\n",
       "      <td>...</td>\n",
       "      <td>...</td>\n",
       "    </tr>\n",
       "    <tr>\n",
       "      <th>170</th>\n",
       "      <td>The Hunger Games: Mockingjay - Part 1</td>\n",
       "      <td>Lionsgate</td>\n",
       "      <td>337135885</td>\n",
       "      <td>362062100</td>\n",
       "      <td>2014</td>\n",
       "    </tr>\n",
       "    <tr>\n",
       "      <th>171</th>\n",
       "      <td>Minions</td>\n",
       "      <td>Universal</td>\n",
       "      <td>336045770</td>\n",
       "      <td>361949600</td>\n",
       "      <td>2015</td>\n",
       "    </tr>\n",
       "    <tr>\n",
       "      <th>172</th>\n",
       "      <td>Saturday Night Fever</td>\n",
       "      <td>Paramount</td>\n",
       "      <td>94213184</td>\n",
       "      <td>360976100</td>\n",
       "      <td>1977</td>\n",
       "    </tr>\n",
       "    <tr>\n",
       "      <th>173</th>\n",
       "      <td>On Golden Pond</td>\n",
       "      <td>Universal</td>\n",
       "      <td>119285432</td>\n",
       "      <td>360794700</td>\n",
       "      <td>1981</td>\n",
       "    </tr>\n",
       "    <tr>\n",
       "      <th>174</th>\n",
       "      <td>Austin Powers: The Spy Who Shagged Me</td>\n",
       "      <td>Newline</td>\n",
       "      <td>206040086</td>\n",
       "      <td>360570200</td>\n",
       "      <td>1999</td>\n",
       "    </tr>\n",
       "    <tr>\n",
       "      <th>175</th>\n",
       "      <td>Harry Potter and the Half-Blood Prince</td>\n",
       "      <td>Warner Brothers</td>\n",
       "      <td>301959197</td>\n",
       "      <td>359788300</td>\n",
       "      <td>2009</td>\n",
       "    </tr>\n",
       "    <tr>\n",
       "      <th>176</th>\n",
       "      <td>Bruce Almighty</td>\n",
       "      <td>Universal</td>\n",
       "      <td>242829261</td>\n",
       "      <td>358002000</td>\n",
       "      <td>2003</td>\n",
       "    </tr>\n",
       "    <tr>\n",
       "      <th>177</th>\n",
       "      <td>Harry Potter and the Prisoner of Azkaban</td>\n",
       "      <td>Warner Brothers</td>\n",
       "      <td>249541069</td>\n",
       "      <td>357233500</td>\n",
       "      <td>2004</td>\n",
       "    </tr>\n",
       "    <tr>\n",
       "      <th>178</th>\n",
       "      <td>Funny Girl</td>\n",
       "      <td>Columbia</td>\n",
       "      <td>52223306</td>\n",
       "      <td>355950700</td>\n",
       "      <td>1968</td>\n",
       "    </tr>\n",
       "    <tr>\n",
       "      <th>179</th>\n",
       "      <td>Mission: Impossible II</td>\n",
       "      <td>Paramount</td>\n",
       "      <td>215409889</td>\n",
       "      <td>355286400</td>\n",
       "      <td>2000</td>\n",
       "    </tr>\n",
       "    <tr>\n",
       "      <th>180</th>\n",
       "      <td>Rush Hour 2</td>\n",
       "      <td>Newline</td>\n",
       "      <td>226164286</td>\n",
       "      <td>355229800</td>\n",
       "      <td>2001</td>\n",
       "    </tr>\n",
       "    <tr>\n",
       "      <th>181</th>\n",
       "      <td>Apollo 13</td>\n",
       "      <td>Universal</td>\n",
       "      <td>173837933</td>\n",
       "      <td>354335300</td>\n",
       "      <td>1995</td>\n",
       "    </tr>\n",
       "    <tr>\n",
       "      <th>182</th>\n",
       "      <td>Patton</td>\n",
       "      <td>Fox</td>\n",
       "      <td>61749765</td>\n",
       "      <td>354164800</td>\n",
       "      <td>1970</td>\n",
       "    </tr>\n",
       "    <tr>\n",
       "      <th>183</th>\n",
       "      <td>Fatal Attraction</td>\n",
       "      <td>Paramount</td>\n",
       "      <td>156645693</td>\n",
       "      <td>352761800</td>\n",
       "      <td>1987</td>\n",
       "    </tr>\n",
       "    <tr>\n",
       "      <th>184</th>\n",
       "      <td>Zootopia</td>\n",
       "      <td>Buena Vista</td>\n",
       "      <td>341268248</td>\n",
       "      <td>352098200</td>\n",
       "      <td>2016</td>\n",
       "    </tr>\n",
       "    <tr>\n",
       "      <th>185</th>\n",
       "      <td>Liar Liar</td>\n",
       "      <td>Universal</td>\n",
       "      <td>181410615</td>\n",
       "      <td>351359500</td>\n",
       "      <td>1997</td>\n",
       "    </tr>\n",
       "    <tr>\n",
       "      <th>186</th>\n",
       "      <td>Robin Hood: Prince of Thieves</td>\n",
       "      <td>Warner Brothers</td>\n",
       "      <td>165493908</td>\n",
       "      <td>349463400</td>\n",
       "      <td>1991</td>\n",
       "    </tr>\n",
       "    <tr>\n",
       "      <th>187</th>\n",
       "      <td>Beverly Hills Cop II</td>\n",
       "      <td>Paramount</td>\n",
       "      <td>153665036</td>\n",
       "      <td>349381600</td>\n",
       "      <td>1987</td>\n",
       "    </tr>\n",
       "    <tr>\n",
       "      <th>188</th>\n",
       "      <td>Iron Man 2</td>\n",
       "      <td>Paramount</td>\n",
       "      <td>312433331</td>\n",
       "      <td>349375100</td>\n",
       "      <td>2010</td>\n",
       "    </tr>\n",
       "    <tr>\n",
       "      <th>189</th>\n",
       "      <td>Up</td>\n",
       "      <td>Buena Vista</td>\n",
       "      <td>293004164</td>\n",
       "      <td>349143900</td>\n",
       "      <td>2009</td>\n",
       "    </tr>\n",
       "    <tr>\n",
       "      <th>190</th>\n",
       "      <td>Batman Returns</td>\n",
       "      <td>Warner Brothers</td>\n",
       "      <td>162831698</td>\n",
       "      <td>348813000</td>\n",
       "      <td>1992</td>\n",
       "    </tr>\n",
       "    <tr>\n",
       "      <th>191</th>\n",
       "      <td>Signs</td>\n",
       "      <td>Buena Vista</td>\n",
       "      <td>227966634</td>\n",
       "      <td>348787100</td>\n",
       "      <td>2002</td>\n",
       "    </tr>\n",
       "    <tr>\n",
       "      <th>192</th>\n",
       "      <td>Superman II</td>\n",
       "      <td>Warner Brothers</td>\n",
       "      <td>108185706</td>\n",
       "      <td>345960800</td>\n",
       "      <td>1981</td>\n",
       "    </tr>\n",
       "    <tr>\n",
       "      <th>193</th>\n",
       "      <td>The Twilight Saga: New Moon</td>\n",
       "      <td>Sum.</td>\n",
       "      <td>296623634</td>\n",
       "      <td>345910600</td>\n",
       "      <td>2009</td>\n",
       "    </tr>\n",
       "    <tr>\n",
       "      <th>194</th>\n",
       "      <td>What's Up, Doc?</td>\n",
       "      <td>Warner Brothers</td>\n",
       "      <td>66000000</td>\n",
       "      <td>345141200</td>\n",
       "      <td>1972</td>\n",
       "    </tr>\n",
       "    <tr>\n",
       "      <th>195</th>\n",
       "      <td>9 to 5</td>\n",
       "      <td>Fox</td>\n",
       "      <td>103290500</td>\n",
       "      <td>341357800</td>\n",
       "      <td>1980</td>\n",
       "    </tr>\n",
       "    <tr>\n",
       "      <th>196</th>\n",
       "      <td>Batman v Superman: Dawn of Justice</td>\n",
       "      <td>Warner Brothers</td>\n",
       "      <td>330360194</td>\n",
       "      <td>340137000</td>\n",
       "      <td>2016</td>\n",
       "    </tr>\n",
       "    <tr>\n",
       "      <th>197</th>\n",
       "      <td>The Firm</td>\n",
       "      <td>Paramount</td>\n",
       "      <td>158348367</td>\n",
       "      <td>340028200</td>\n",
       "      <td>1993</td>\n",
       "    </tr>\n",
       "    <tr>\n",
       "      <th>198</th>\n",
       "      <td>Suicide Squad</td>\n",
       "      <td>Warner Brothers</td>\n",
       "      <td>325100054</td>\n",
       "      <td>339411900</td>\n",
       "      <td>2016</td>\n",
       "    </tr>\n",
       "    <tr>\n",
       "      <th>199</th>\n",
       "      <td>Who Framed Roger Rabbit</td>\n",
       "      <td>Buena Vista</td>\n",
       "      <td>156452370</td>\n",
       "      <td>338409100</td>\n",
       "      <td>1988</td>\n",
       "    </tr>\n",
       "  </tbody>\n",
       "</table>\n",
       "<p>200 rows × 5 columns</p>\n",
       "</div>"
      ],
      "text/plain": [
       "                                         Title           Studio      Gross  \\\n",
       "0                           Gone with the Wind              MGM  198676459   \n",
       "1                                    Star Wars              Fox  460998007   \n",
       "2                           The Sound of Music              Fox  158671368   \n",
       "3                  E.T.: The Extra-Terrestrial        Universal  435110554   \n",
       "4                                      Titanic        Paramount  658672302   \n",
       "5                         The Ten Commandments        Paramount   65500000   \n",
       "6                                         Jaws        Universal  260000000   \n",
       "7                               Doctor Zhivago              MGM  111721910   \n",
       "8                                 The Exorcist  Warner Brothers  232906145   \n",
       "9             Snow White and the Seven Dwarves           Disney  184925486   \n",
       "10                Star Wars: The Force Awakens      Buena Vista  936662225   \n",
       "11                              101 Dalmatians           Disney  144880014   \n",
       "12                     The Empire Strikes Back              Fox  290475067   \n",
       "13                                     Ben-Hur              MGM   74000000   \n",
       "14                                      Avatar              Fox  760507625   \n",
       "15                          Return of the Jedi              Fox  309306177   \n",
       "16                               Jurassic Park        Universal  402453882   \n",
       "17   Star Wars: Episode I - The Phantom Menace              Fox  474544677   \n",
       "18                               The Lion King      Buena Vista  422783777   \n",
       "19                                   The Sting        Universal  156000000   \n",
       "20                     Raiders of the Lost Ark        Paramount  248159971   \n",
       "21                                The Graduate             AVCO  104945305   \n",
       "22                                    Fantasia           Disney   76408097   \n",
       "23                              Jurassic World        Universal  652270625   \n",
       "24                               The Godfather        Paramount  134966411   \n",
       "25                                Forrest Gump        Paramount  330252182   \n",
       "26                                Mary Poppins           Disney  102272727   \n",
       "27                                      Grease        Paramount  188755690   \n",
       "28                       Marvel's The Avengers      Buena Vista  623357910   \n",
       "29                                 Thunderball   United Artists   63595658   \n",
       "..                                         ...              ...        ...   \n",
       "170      The Hunger Games: Mockingjay - Part 1        Lionsgate  337135885   \n",
       "171                                    Minions        Universal  336045770   \n",
       "172                       Saturday Night Fever        Paramount   94213184   \n",
       "173                             On Golden Pond        Universal  119285432   \n",
       "174      Austin Powers: The Spy Who Shagged Me          Newline  206040086   \n",
       "175     Harry Potter and the Half-Blood Prince  Warner Brothers  301959197   \n",
       "176                             Bruce Almighty        Universal  242829261   \n",
       "177   Harry Potter and the Prisoner of Azkaban  Warner Brothers  249541069   \n",
       "178                                 Funny Girl         Columbia   52223306   \n",
       "179                     Mission: Impossible II        Paramount  215409889   \n",
       "180                                Rush Hour 2          Newline  226164286   \n",
       "181                                  Apollo 13        Universal  173837933   \n",
       "182                                     Patton              Fox   61749765   \n",
       "183                           Fatal Attraction        Paramount  156645693   \n",
       "184                                   Zootopia      Buena Vista  341268248   \n",
       "185                                  Liar Liar        Universal  181410615   \n",
       "186              Robin Hood: Prince of Thieves  Warner Brothers  165493908   \n",
       "187                       Beverly Hills Cop II        Paramount  153665036   \n",
       "188                                 Iron Man 2        Paramount  312433331   \n",
       "189                                         Up      Buena Vista  293004164   \n",
       "190                             Batman Returns  Warner Brothers  162831698   \n",
       "191                                      Signs      Buena Vista  227966634   \n",
       "192                                Superman II  Warner Brothers  108185706   \n",
       "193                The Twilight Saga: New Moon             Sum.  296623634   \n",
       "194                            What's Up, Doc?  Warner Brothers   66000000   \n",
       "195                                     9 to 5              Fox  103290500   \n",
       "196         Batman v Superman: Dawn of Justice  Warner Brothers  330360194   \n",
       "197                                   The Firm        Paramount  158348367   \n",
       "198                              Suicide Squad  Warner Brothers  325100054   \n",
       "199                    Who Framed Roger Rabbit      Buena Vista  156452370   \n",
       "\n",
       "     Gross (Adjusted)  Year  \n",
       "0          1796176700  1939  \n",
       "1          1583483200  1977  \n",
       "2          1266072700  1965  \n",
       "3          1261085000  1982  \n",
       "4          1204368000  1997  \n",
       "5          1164590000  1956  \n",
       "6          1138620700  1975  \n",
       "7          1103564200  1965  \n",
       "8           983226600  1973  \n",
       "9           969010000  1937  \n",
       "10          961143200  2015  \n",
       "11          888264400  1961  \n",
       "12          872825900  1980  \n",
       "13          871220000  1959  \n",
       "14          865082100  2009  \n",
       "15          836188200  1983  \n",
       "16          817186200  1993  \n",
       "17          802874300  1999  \n",
       "18          792511700  1994  \n",
       "19          792480000  1973  \n",
       "20          787003100  1981  \n",
       "21          760778000  1967  \n",
       "22          738256500  1941  \n",
       "23          702747400  2015  \n",
       "24          701621600  1972  \n",
       "25          698884100  1994  \n",
       "26          695036400  1964  \n",
       "27          684256200  1978  \n",
       "28          683474000  2012  \n",
       "29          664972000  1965  \n",
       "..                ...   ...  \n",
       "170         362062100  2014  \n",
       "171         361949600  2015  \n",
       "172         360976100  1977  \n",
       "173         360794700  1981  \n",
       "174         360570200  1999  \n",
       "175         359788300  2009  \n",
       "176         358002000  2003  \n",
       "177         357233500  2004  \n",
       "178         355950700  1968  \n",
       "179         355286400  2000  \n",
       "180         355229800  2001  \n",
       "181         354335300  1995  \n",
       "182         354164800  1970  \n",
       "183         352761800  1987  \n",
       "184         352098200  2016  \n",
       "185         351359500  1997  \n",
       "186         349463400  1991  \n",
       "187         349381600  1987  \n",
       "188         349375100  2010  \n",
       "189         349143900  2009  \n",
       "190         348813000  1992  \n",
       "191         348787100  2002  \n",
       "192         345960800  1981  \n",
       "193         345910600  2009  \n",
       "194         345141200  1972  \n",
       "195         341357800  1980  \n",
       "196         340137000  2016  \n",
       "197         340028200  1993  \n",
       "198         339411900  2016  \n",
       "199         338409100  1988  \n",
       "\n",
       "[200 rows x 5 columns]"
      ]
     },
     "execution_count": 14,
     "metadata": {},
     "output_type": "execute_result"
    }
   ],
   "source": [
    "movies"
   ]
  },
  {
   "cell_type": "code",
   "execution_count": 15,
   "metadata": {},
   "outputs": [
    {
     "data": {
      "text/plain": [
       "0    1939\n",
       "1    1977\n",
       "2    1965\n",
       "3    1982\n",
       "4    1997\n",
       "Name: Year, dtype: int64"
      ]
     },
     "execution_count": 15,
     "metadata": {},
     "output_type": "execute_result"
    }
   ],
   "source": [
    "# Column name lookup\n",
    "movies.loc[:, 'Year'].head(5)"
   ]
  },
  {
   "cell_type": "code",
   "execution_count": 16,
   "metadata": {},
   "outputs": [
    {
     "data": {
      "text/plain": [
       "0    1939\n",
       "1    1977\n",
       "2    1965\n",
       "3    1982\n",
       "4    1997\n",
       "Name: Year, dtype: int64"
      ]
     },
     "execution_count": 16,
     "metadata": {},
     "output_type": "execute_result"
    }
   ],
   "source": [
    "# Column index lookup\n",
    "movies.iloc[:, 4].head(5)  # Index lookup"
   ]
  },
  {
   "cell_type": "code",
   "execution_count": 17,
   "metadata": {},
   "outputs": [
    {
     "data": {
      "text/plain": [
       "0    9.040712\n",
       "1    3.434902\n",
       "2    7.979213\n",
       "3    2.898309\n",
       "4    1.828478\n",
       "dtype: float64"
      ]
     },
     "execution_count": 17,
     "metadata": {},
     "output_type": "execute_result"
    }
   ],
   "source": [
    "# Math with series returned by column lookup\n",
    "gross = movies.loc[:, 'Gross']\n",
    "gross_adj = movies.loc[:, 'Gross (Adjusted)']\n",
    "adjustment = gross_adj / gross\n",
    "adjustment.head(5)"
   ]
  },
  {
   "cell_type": "code",
   "execution_count": 18,
   "metadata": {},
   "outputs": [
    {
     "data": {
      "text/html": [
       "<div>\n",
       "<style scoped>\n",
       "    .dataframe tbody tr th:only-of-type {\n",
       "        vertical-align: middle;\n",
       "    }\n",
       "\n",
       "    .dataframe tbody tr th {\n",
       "        vertical-align: top;\n",
       "    }\n",
       "\n",
       "    .dataframe thead th {\n",
       "        text-align: right;\n",
       "    }\n",
       "</style>\n",
       "<table border=\"1\" class=\"dataframe\">\n",
       "  <thead>\n",
       "    <tr style=\"text-align: right;\">\n",
       "      <th></th>\n",
       "      <th>Title</th>\n",
       "      <th>Studio</th>\n",
       "      <th>Gross</th>\n",
       "      <th>Gross (Adjusted)</th>\n",
       "      <th>Year</th>\n",
       "      <th>adjustment</th>\n",
       "    </tr>\n",
       "  </thead>\n",
       "  <tbody>\n",
       "    <tr>\n",
       "      <th>0</th>\n",
       "      <td>Gone with the Wind</td>\n",
       "      <td>MGM</td>\n",
       "      <td>198676459</td>\n",
       "      <td>1796176700</td>\n",
       "      <td>1939</td>\n",
       "      <td>9.040712</td>\n",
       "    </tr>\n",
       "    <tr>\n",
       "      <th>1</th>\n",
       "      <td>Star Wars</td>\n",
       "      <td>Fox</td>\n",
       "      <td>460998007</td>\n",
       "      <td>1583483200</td>\n",
       "      <td>1977</td>\n",
       "      <td>3.434902</td>\n",
       "    </tr>\n",
       "    <tr>\n",
       "      <th>2</th>\n",
       "      <td>The Sound of Music</td>\n",
       "      <td>Fox</td>\n",
       "      <td>158671368</td>\n",
       "      <td>1266072700</td>\n",
       "      <td>1965</td>\n",
       "      <td>7.979213</td>\n",
       "    </tr>\n",
       "    <tr>\n",
       "      <th>3</th>\n",
       "      <td>E.T.: The Extra-Terrestrial</td>\n",
       "      <td>Universal</td>\n",
       "      <td>435110554</td>\n",
       "      <td>1261085000</td>\n",
       "      <td>1982</td>\n",
       "      <td>2.898309</td>\n",
       "    </tr>\n",
       "    <tr>\n",
       "      <th>4</th>\n",
       "      <td>Titanic</td>\n",
       "      <td>Paramount</td>\n",
       "      <td>658672302</td>\n",
       "      <td>1204368000</td>\n",
       "      <td>1997</td>\n",
       "      <td>1.828478</td>\n",
       "    </tr>\n",
       "  </tbody>\n",
       "</table>\n",
       "</div>"
      ],
      "text/plain": [
       "                         Title     Studio      Gross  Gross (Adjusted)  Year  \\\n",
       "0           Gone with the Wind        MGM  198676459        1796176700  1939   \n",
       "1                    Star Wars        Fox  460998007        1583483200  1977   \n",
       "2           The Sound of Music        Fox  158671368        1266072700  1965   \n",
       "3  E.T.: The Extra-Terrestrial  Universal  435110554        1261085000  1982   \n",
       "4                      Titanic  Paramount  658672302        1204368000  1997   \n",
       "\n",
       "   adjustment  \n",
       "0    9.040712  \n",
       "1    3.434902  \n",
       "2    7.979213  \n",
       "3    2.898309  \n",
       "4    1.828478  "
      ]
     },
     "execution_count": 18,
     "metadata": {},
     "output_type": "execute_result"
    }
   ],
   "source": [
    "# Add column to data frame\n",
    "movies.loc[:, 'adjustment'] = adjustment\n",
    "movies.head(5)"
   ]
  },
  {
   "cell_type": "code",
   "execution_count": 19,
   "metadata": {},
   "outputs": [
    {
     "data": {
      "text/plain": [
       "<matplotlib.axes._subplots.AxesSubplot at 0x7ff4bf1fef60>"
      ]
     },
     "execution_count": 19,
     "metadata": {},
     "output_type": "execute_result"
    },
    {
     "data": {
      "image/png": "[encoded data removed]",
      "text/plain": [
       "<matplotlib.figure.Figure at 0x7ff4bf1fe978>"
      ]
     },
     "metadata": {},
     "output_type": "display_data"
    }
   ],
   "source": [
    "#movies.loc[:, ['Year', 'adjustment']].plot.scatter([])\n",
    "movies.plot.scatter(['Year'], ['adjustment'])"
   ]
  },
  {
   "cell_type": "code",
   "execution_count": 20,
   "metadata": {},
   "outputs": [
    {
     "data": {
      "text/html": [
       "<div>\n",
       "<style scoped>\n",
       "    .dataframe tbody tr th:only-of-type {\n",
       "        vertical-align: middle;\n",
       "    }\n",
       "\n",
       "    .dataframe tbody tr th {\n",
       "        vertical-align: top;\n",
       "    }\n",
       "\n",
       "    .dataframe thead th {\n",
       "        text-align: right;\n",
       "    }\n",
       "</style>\n",
       "<table border=\"1\" class=\"dataframe\">\n",
       "  <thead>\n",
       "    <tr style=\"text-align: right;\">\n",
       "      <th></th>\n",
       "      <th>Title</th>\n",
       "      <th>Studio</th>\n",
       "      <th>Gross</th>\n",
       "      <th>Gross (Adjusted)</th>\n",
       "      <th>Year</th>\n",
       "      <th>adjustment</th>\n",
       "      <th>Age</th>\n",
       "      <th>Growth_rate</th>\n",
       "    </tr>\n",
       "  </thead>\n",
       "  <tbody>\n",
       "    <tr>\n",
       "      <th>0</th>\n",
       "      <td>Gone with the Wind</td>\n",
       "      <td>MGM</td>\n",
       "      <td>198676459</td>\n",
       "      <td>1796176700</td>\n",
       "      <td>1939</td>\n",
       "      <td>9.040712</td>\n",
       "      <td>78</td>\n",
       "      <td>0.028630</td>\n",
       "    </tr>\n",
       "    <tr>\n",
       "      <th>1</th>\n",
       "      <td>Star Wars</td>\n",
       "      <td>Fox</td>\n",
       "      <td>460998007</td>\n",
       "      <td>1583483200</td>\n",
       "      <td>1977</td>\n",
       "      <td>3.434902</td>\n",
       "      <td>40</td>\n",
       "      <td>0.031330</td>\n",
       "    </tr>\n",
       "    <tr>\n",
       "      <th>2</th>\n",
       "      <td>The Sound of Music</td>\n",
       "      <td>Fox</td>\n",
       "      <td>158671368</td>\n",
       "      <td>1266072700</td>\n",
       "      <td>1965</td>\n",
       "      <td>7.979213</td>\n",
       "      <td>52</td>\n",
       "      <td>0.040748</td>\n",
       "    </tr>\n",
       "    <tr>\n",
       "      <th>3</th>\n",
       "      <td>E.T.: The Extra-Terrestrial</td>\n",
       "      <td>Universal</td>\n",
       "      <td>435110554</td>\n",
       "      <td>1261085000</td>\n",
       "      <td>1982</td>\n",
       "      <td>2.898309</td>\n",
       "      <td>35</td>\n",
       "      <td>0.030871</td>\n",
       "    </tr>\n",
       "    <tr>\n",
       "      <th>4</th>\n",
       "      <td>Titanic</td>\n",
       "      <td>Paramount</td>\n",
       "      <td>658672302</td>\n",
       "      <td>1204368000</td>\n",
       "      <td>1997</td>\n",
       "      <td>1.828478</td>\n",
       "      <td>20</td>\n",
       "      <td>0.030634</td>\n",
       "    </tr>\n",
       "  </tbody>\n",
       "</table>\n",
       "</div>"
      ],
      "text/plain": [
       "                         Title     Studio      Gross  Gross (Adjusted)  Year  \\\n",
       "0           Gone with the Wind        MGM  198676459        1796176700  1939   \n",
       "1                    Star Wars        Fox  460998007        1583483200  1977   \n",
       "2           The Sound of Music        Fox  158671368        1266072700  1965   \n",
       "3  E.T.: The Extra-Terrestrial  Universal  435110554        1261085000  1982   \n",
       "4                      Titanic  Paramount  658672302        1204368000  1997   \n",
       "\n",
       "   adjustment  Age  Growth_rate  \n",
       "0    9.040712   78     0.028630  \n",
       "1    3.434902   40     0.031330  \n",
       "2    7.979213   52     0.040748  \n",
       "3    2.898309   35     0.030871  \n",
       "4    1.828478   20     0.030634  "
      ]
     },
     "execution_count": 20,
     "metadata": {},
     "output_type": "execute_result"
    }
   ],
   "source": [
    "movies.loc[:, 'Age'] = 2017 - movies.loc[:, 'Year']\n",
    "movies.loc[:, 'Growth_rate'] = adjustment ** (1 / movies.loc[:, 'Age']) - 1\n",
    "movies.head(5)"
   ]
  },
  {
   "cell_type": "code",
   "execution_count": 21,
   "metadata": {},
   "outputs": [
    {
     "data": {
      "text/plain": [
       "<matplotlib.axes._subplots.AxesSubplot at 0x7ff4bf242c88>"
      ]
     },
     "execution_count": 21,
     "metadata": {},
     "output_type": "execute_result"
    },
    {
     "data": {
      "image/png": "[encoded data removed]",
      "text/plain": [
       "<matplotlib.figure.Figure at 0x7ff4bd1b57b8>"
      ]
     },
     "metadata": {},
     "output_type": "display_data"
    }
   ],
   "source": [
    "movies.plot.scatter(['Year'], ['Growth_rate'])"
   ]
  },
  {
   "cell_type": "code",
   "execution_count": null,
   "metadata": {},
   "outputs": [],
   "source": []
  }
 ],
 "metadata": {
  "kernelspec": {
   "display_name": "Python 3",
   "language": "python",
   "name": "python3"
  },
  "language_info": {
   "codemirror_mode": {
    "name": "ipython",
    "version": 3
   },
   "file_extension": ".py",
   "mimetype": "text/x-python",
   "name": "python",
   "nbconvert_exporter": "python",
   "pygments_lexer": "ipython3",
   "version": "3.6.3"
  }
 },
 "nbformat": 4,
 "nbformat_minor": 2
}
