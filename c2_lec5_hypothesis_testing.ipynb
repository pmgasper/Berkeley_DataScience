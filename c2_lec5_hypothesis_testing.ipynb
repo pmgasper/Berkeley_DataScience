{
 "cells": [
  {
   "cell_type": "markdown",
   "metadata": {},
   "source": [
    "## Foundations of Data Science: Inferential Thinking by Resampling\n",
    "\n",
    "Mirroring course Jupyter notebook except using standard modules instead of Berkeley data science module.\n",
    "\n",
    "## Lecture 5: Hypothesis Testing "
   ]
  },
  {
   "cell_type": "code",
   "execution_count": 48,
   "metadata": {},
   "outputs": [],
   "source": [
    "import matplotlib.pyplot as plt\n",
    "from scipy import stats\n",
    "\n",
    "%matplotlib inline"
   ]
  },
  {
   "cell_type": "code",
   "execution_count": 49,
   "metadata": {},
   "outputs": [
    {
     "data": {
      "text/plain": [
       "4.694999459438175e-06"
      ]
     },
     "execution_count": 49,
     "metadata": {},
     "output_type": "execute_result"
    }
   ],
   "source": [
    "M = 100000 \n",
    "n = M * 0.26\n",
    "N = 100\n",
    "k = 8\n",
    "\n",
    "stats.hypergeom.cdf(k, M, n, N)"
   ]
  },
  {
   "cell_type": "code",
   "execution_count": 50,
   "metadata": {},
   "outputs": [],
   "source": [
    "def jury_rep(num=100, prob=0.26):\n",
    "    count = 0\n",
    "    for _ in range(num):\n",
    "        if np.random.random() < prob:\n",
    "            count += 1\n",
    "    return count"
   ]
  },
  {
   "cell_type": "code",
   "execution_count": 72,
   "metadata": {},
   "outputs": [
    {
     "data": {
      "image/png": "[encoded data removed]",
      "text/plain": [
       "<Figure size 432x288 with 1 Axes>"
      ]
     },
     "metadata": {},
     "output_type": "display_data"
    }
   ],
   "source": [
    "dist = []\n",
    "for _ in range(100000):\n",
    "    dist.append(jury_rep())\n",
    "plt.hist(dist, density=True, bins=20)    \n",
    "plt.show()\n"
   ]
  },
  {
   "cell_type": "code",
   "execution_count": 76,
   "metadata": {},
   "outputs": [
    {
     "name": "stdout",
     "output_type": "stream",
     "text": [
      "6e-06\n"
     ]
    }
   ],
   "source": [
    "less_than_9 = 0\n",
    "for _ in range(1000000):\n",
    "    if jury_rep() < 9:\n",
    "        less_than_9 += 1\n",
    "\n",
    "print(less_than_9 / 1000000)"
   ]
  },
  {
   "cell_type": "markdown",
   "metadata": {},
   "source": [
    "#### Mendel"
   ]
  },
  {
   "cell_type": "code",
   "execution_count": null,
   "metadata": {},
   "outputs": [],
   "source": [
    "percent_purple = (100 * sample_proportions(929, model)).item(0)"
   ]
  },
  {
   "cell_type": "code",
   "execution_count": 148,
   "metadata": {},
   "outputs": [
    {
     "data": {
      "image/png": "[encoded data removed]",
      "text/plain": [
       "<Figure size 432x288 with 1 Axes>"
      ]
     },
     "metadata": {},
     "output_type": "display_data"
    }
   ],
   "source": [
    "# Simulate pmf\n",
    "n = 929\n",
    "p = 0.75\n",
    "trials = []\n",
    "for _ in range(10000):\n",
    "    trials.append(stats.binom.rvs(n, p))\n",
    "\n",
    "# Plot pmf simulation\n",
    "fig, ax = plt.subplots(1, 1)\n",
    "ax.hist(trials, bins=30, density=True)\n",
    "\n",
    "# Plot pmf\n",
    "x = np.arange(stats.binom.ppf(0.001, n, p),\n",
    "              stats.binom.ppf(0.999, n, p))\n",
    "ax.plot(x, stats.binom.pmf(x, n, p), 'bo', ms=4)\n",
    "\n",
    "plt.show()"
   ]
  },
  {
   "cell_type": "code",
   "execution_count": 222,
   "metadata": {},
   "outputs": [
    {
     "data": {
      "image/png": "[encoded data removed]",
      "text/plain": [
       "<Figure size 432x288 with 2 Axes>"
      ]
     },
     "metadata": {},
     "output_type": "display_data"
    }
   ],
   "source": [
    "# Simulate pmf\n",
    "n = 929\n",
    "p = 0.75\n",
    "trials = []\n",
    "for _ in range(10000):\n",
    "    trials.append(stats.binom.rvs(n, p) / n * 100)\n",
    "\n",
    "# Plot pmf simulation\n",
    "fig, ax = plt.subplots(2, 1)\n",
    "ax[0].hist(trials, bins=30, density=True)\n",
    "\n",
    "# Plot pmf\n",
    "x = np.arange(stats.binom.ppf(0.001, n, p),\n",
    "              stats.binom.ppf(0.999, n, p))\n",
    "ax[1].plot(x / n * 100, stats.binom.pmf(x, n, p), 'bo', ms=4)\n",
    "\n",
    "ax[1].set_xlim(ax[0].get_xlim())\n",
    "\n",
    "\n",
    "plt.show()"
   ]
  },
  {
   "cell_type": "code",
   "execution_count": 372,
   "metadata": {},
   "outputs": [
    {
     "data": {
      "text/plain": [
       "0.5096358795048261"
      ]
     },
     "execution_count": 372,
     "metadata": {},
     "output_type": "execute_result"
    }
   ],
   "source": [
    "# Binomial distribution\n",
    "n = 929\n",
    "p = 0.75\n",
    "x = 705\n",
    "stats.binom.sf((n * p) + np.abs((n * p) - x), n, p) * 2"
   ]
  },
  {
   "cell_type": "code",
   "execution_count": 439,
   "metadata": {},
   "outputs": [
    {
     "data": {
      "text/plain": [
       "0.5319092473839093"
      ]
     },
     "execution_count": 439,
     "metadata": {},
     "output_type": "execute_result"
    }
   ],
   "source": [
    "# Normal Approximation of proportion\n",
    "h = 0.75\n",
    "n = 929\n",
    "x = 705\n",
    "p = x / n\n",
    "\n",
    "sigma = np.sqrt(h * (1 - h) / n)\n",
    "z_score = np.abs(p - h) / sigma\n",
    "\n",
    "pval = 2 * stats.norm.sf(z_score)\n",
    "pval"
   ]
  },
  {
   "cell_type": "markdown",
   "metadata": {},
   "source": [
    "#### Coin"
   ]
  },
  {
   "cell_type": "code",
   "execution_count": 484,
   "metadata": {},
   "outputs": [],
   "source": [
    "# Simulated data\n",
    "fair_data = [np.random.choice(['H', 'T']) for _ in range(1000)]\n",
    "tailbias_data = [np.random.choice(['H', 'T'], p=[0.45, 0.55]) for _ in range(1000)] "
   ]
  },
  {
   "cell_type": "code",
   "execution_count": 485,
   "metadata": {},
   "outputs": [
    {
     "name": "stdout",
     "output_type": "stream",
     "text": [
      "Tails in sample = 500\n",
      "P-value = 1.00\n"
     ]
    }
   ],
   "source": [
    "# H0 = Coin is fair\n",
    "# H1 = The coin is not fair (two-tailed distribution)\n",
    "h = 0.50\n",
    "x = sum([toss=='T' for toss in fair_data])\n",
    "n = len(fair_data)\n",
    "p = x / n\n",
    "\n",
    "sigma = np.sqrt(h * (1 - h) / n)\n",
    "z_score = np.abs(p - h) / sigma\n",
    "\n",
    "print('Tails in sample = {0}'.format(x))\n",
    "pval = 2 * stats.norm.sf(z_score)\n",
    "print('P-value = {0:.2f}'.format(pval))"
   ]
  },
  {
   "cell_type": "code",
   "execution_count": 486,
   "metadata": {},
   "outputs": [
    {
     "name": "stdout",
     "output_type": "stream",
     "text": [
      "Tails in sample = 500\n",
      "P-value = 0.50\n"
     ]
    }
   ],
   "source": [
    "# H0 = Coin is not biased towards tails \n",
    "# H1 = The coin is biased towards tails (one-tailed distribution)\n",
    "h = 0.50\n",
    "x = sum([toss=='T' for toss in fair_data])\n",
    "n = len(fair_data)\n",
    "p = x / n\n",
    "\n",
    "sigma = np.sqrt(h * (1 - h) / n)\n",
    "z_score = (p - h) / sigma\n",
    "\n",
    "print('Tails in sample = {0}'.format(x))\n",
    "pval = stats.norm.sf(z_score)\n",
    "print('P-value = {0:.2f}'.format(pval))"
   ]
  },
  {
   "cell_type": "code",
   "execution_count": 487,
   "metadata": {},
   "outputs": [
    {
     "name": "stdout",
     "output_type": "stream",
     "text": [
      "Tails in sample = 556\n",
      "P-value = 0.00\n"
     ]
    }
   ],
   "source": [
    "# H0 = Coin is fair\n",
    "# H1 = The coin is not fair (two-tailed distribution)\n",
    "h = 0.50\n",
    "x = sum([toss=='T' for toss in tailbias_data])\n",
    "n = len(tailbias_data)\n",
    "p = x / n\n",
    "\n",
    "sigma = np.sqrt(h * (1 - h) / n)\n",
    "z_score = np.abs(p - h) / sigma\n",
    "\n",
    "print('Tails in sample = {0}'.format(x))\n",
    "pval = 2 * stats.norm.sf(z_score)\n",
    "print('P-value = {0:.2f}'.format(pval))"
   ]
  },
  {
   "cell_type": "code",
   "execution_count": 488,
   "metadata": {},
   "outputs": [
    {
     "name": "stdout",
     "output_type": "stream",
     "text": [
      "Tails in sample = 556\n",
      "P-value = 0.00\n"
     ]
    }
   ],
   "source": [
    "h = 0.50\n",
    "x = sum([toss=='T' for toss in tailbias_data])\n",
    "n = len(tailbias_data)\n",
    "p = x / n\n",
    "\n",
    "sigma = np.sqrt(h * (1 - h) / n)\n",
    "z_score = (p - h) / sigma\n",
    "\n",
    "print('Tails in sample = {0}'.format(x))\n",
    "pval = stats.norm.sf(z_score)\n",
    "print('P-value = {0:.2f}'.format(pval))"
   ]
  },
  {
   "cell_type": "code",
   "execution_count": null,
   "metadata": {},
   "outputs": [],
   "source": []
  }
 ],
 "metadata": {
  "kernelspec": {
   "display_name": "Python 3",
   "language": "python",
   "name": "python3"
  },
  "language_info": {
   "codemirror_mode": {
    "name": "ipython",
    "version": 3
   },
   "file_extension": ".py",
   "mimetype": "text/x-python",
   "name": "python",
   "nbconvert_exporter": "python",
   "pygments_lexer": "ipython3",
   "version": "3.6.3"
  },
  "varInspector": {
   "cols": {
    "lenName": 16,
    "lenType": 16,
    "lenVar": 40
   },
   "kernels_config": {
    "python": {
     "delete_cmd_postfix": "",
     "delete_cmd_prefix": "del ",
     "library": "var_list.py",
     "varRefreshCmd": "print(var_dic_list())"
    },
    "r": {
     "delete_cmd_postfix": ") ",
     "delete_cmd_prefix": "rm(",
     "library": "var_list.r",
     "varRefreshCmd": "cat(var_dic_list()) "
    }
   },
   "types_to_exclude": [
    "module",
    "function",
    "builtin_function_or_method",
    "instance",
    "_Feature"
   ],
   "window_display": false
  }
 },
 "nbformat": 4,
 "nbformat_minor": 2
}
