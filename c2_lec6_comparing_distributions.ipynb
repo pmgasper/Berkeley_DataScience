{
 "cells": [
  {
   "cell_type": "markdown",
   "metadata": {},
   "source": [
    "## Foundations of Data Science: Inferential Thinking by Resampling\n",
    "\n",
    "Mirroring course Jupyter notebook except using standard modules instead of Berkeley data science module.\n",
    "\n",
    "## Lecture 6: Comparing Distributions"
   ]
  },
  {
   "cell_type": "code",
   "execution_count": 45,
   "metadata": {},
   "outputs": [],
   "source": [
    "from collections import Counter\n",
    "import matplotlib.pyplot as plt\n",
    "import numpy as np\n",
    "import pandas as pd\n",
    "from scipy import stats\n",
    "\n",
    "pd.options.display.float_format = '{:,.2f}'.format\n",
    "pd.set_option('max_columns', 50)\n",
    "pd.set_option('max_rows', 9)"
   ]
  },
  {
   "cell_type": "code",
   "execution_count": 2,
   "metadata": {},
   "outputs": [
    {
     "data": {
      "text/html": [
       "<div>\n",
       "<style scoped>\n",
       "    .dataframe tbody tr th:only-of-type {\n",
       "        vertical-align: middle;\n",
       "    }\n",
       "\n",
       "    .dataframe tbody tr th {\n",
       "        vertical-align: top;\n",
       "    }\n",
       "\n",
       "    .dataframe thead th {\n",
       "        text-align: right;\n",
       "    }\n",
       "</style>\n",
       "<table border=\"1\" class=\"dataframe\">\n",
       "  <thead>\n",
       "    <tr style=\"text-align: right;\">\n",
       "      <th></th>\n",
       "      <th>Eligible</th>\n",
       "      <th>Panels</th>\n",
       "    </tr>\n",
       "    <tr>\n",
       "      <th>Ethnicity</th>\n",
       "      <th></th>\n",
       "      <th></th>\n",
       "    </tr>\n",
       "  </thead>\n",
       "  <tbody>\n",
       "    <tr>\n",
       "      <th>Asian</th>\n",
       "      <td>0.15</td>\n",
       "      <td>0.26</td>\n",
       "    </tr>\n",
       "    <tr>\n",
       "      <th>Black</th>\n",
       "      <td>0.18</td>\n",
       "      <td>0.08</td>\n",
       "    </tr>\n",
       "    <tr>\n",
       "      <th>Latino</th>\n",
       "      <td>0.12</td>\n",
       "      <td>0.08</td>\n",
       "    </tr>\n",
       "    <tr>\n",
       "      <th>White</th>\n",
       "      <td>0.54</td>\n",
       "      <td>0.54</td>\n",
       "    </tr>\n",
       "    <tr>\n",
       "      <th>Other</th>\n",
       "      <td>0.01</td>\n",
       "      <td>0.04</td>\n",
       "    </tr>\n",
       "  </tbody>\n",
       "</table>\n",
       "</div>"
      ],
      "text/plain": [
       "           Eligible  Panels\n",
       "Ethnicity                  \n",
       "Asian          0.15    0.26\n",
       "Black          0.18    0.08\n",
       "Latino         0.12    0.08\n",
       "White          0.54    0.54\n",
       "Other          0.01    0.04"
      ]
     },
     "execution_count": 2,
     "metadata": {},
     "output_type": "execute_result"
    }
   ],
   "source": [
    "# Jury panel data\n",
    "jury = pd.DataFrame({\n",
    "    'Ethnicity': ['Asian', 'Black', 'Latino', 'White', 'Other'],\n",
    "    'Eligible': [0.15, 0.18, 0.12, 0.54, 0.01],\n",
    "    'Panels': [0.26, 0.08, 0.08, 0.54, 0.04]}\n",
    "    )\n",
    "\n",
    "jury.set_index('Ethnicity', inplace=True)\n",
    "jury"
   ]
  },
  {
   "cell_type": "code",
   "execution_count": 3,
   "metadata": {},
   "outputs": [],
   "source": [
    "# # Sanity check dummy data\n",
    "#jury = pd.DataFrame({\n",
    "#    'Ethnicity': ['Asian', 'Black', 'Latino', 'White', 'Other'],\n",
    "#    'Eligible': [0.05, 0.10, 0.15, 0.20, 0.50],\n",
    "#    'Panels': [0.50, 0.20, 0.05, 0.10, 0.15]}\n",
    "#    )\n",
    "\n",
    "#jury.set_index('Ethnicity', inplace=True)\n",
    "#jury"
   ]
  },
  {
   "cell_type": "code",
   "execution_count": 4,
   "metadata": {},
   "outputs": [],
   "source": [
    "# # Sanity check dummy data\n",
    "# jury = pd.DataFrame({\n",
    "#     'Ethnicity': ['Asian', 'Black', 'Latino', 'White', 'Other'],\n",
    "#     'Eligible': [0.05, 0.10, 0.15, 0.20, 0.50],\n",
    "#     'Panels': [0.04, 0.11, 0.15, 0.19, 0.51]}\n",
    "#     )\n",
    "\n",
    "# jury.set_index('Ethnicity', inplace=True)\n",
    "# jury"
   ]
  },
  {
   "cell_type": "code",
   "execution_count": 5,
   "metadata": {},
   "outputs": [
    {
     "data": {
      "image/png": "[encoded data removed]",
      "text/plain": [
       "<Figure size 432x288 with 1 Axes>"
      ]
     },
     "metadata": {},
     "output_type": "display_data"
    }
   ],
   "source": [
    "jury.plot.barh()\n",
    "plt.gca().invert_yaxis()\n",
    "plt.xlabel('Proportion')\n",
    "plt.show()"
   ]
  },
  {
   "cell_type": "code",
   "execution_count": 6,
   "metadata": {},
   "outputs": [
    {
     "name": "stdout",
     "output_type": "stream",
     "text": [
      "Power_divergenceResult(statistic=348.07422222222226, pvalue=4.568494800707335e-74)\n"
     ]
    }
   ],
   "source": [
    "# Chi-squared test for distribution \n",
    "#   null hypothesis that the categorical data has the given frequencies\n",
    "n = 1453  #  panel size was 1453\n",
    "print(stats.chisquare(jury['Panels'] * n, jury['Eligible'] * n))"
   ]
  },
  {
   "cell_type": "code",
   "execution_count": 7,
   "metadata": {},
   "outputs": [
    {
     "data": {
      "text/html": [
       "<div>\n",
       "<style scoped>\n",
       "    .dataframe tbody tr th:only-of-type {\n",
       "        vertical-align: middle;\n",
       "    }\n",
       "\n",
       "    .dataframe tbody tr th {\n",
       "        vertical-align: top;\n",
       "    }\n",
       "\n",
       "    .dataframe thead th {\n",
       "        text-align: right;\n",
       "    }\n",
       "</style>\n",
       "<table border=\"1\" class=\"dataframe\">\n",
       "  <thead>\n",
       "    <tr style=\"text-align: right;\">\n",
       "      <th></th>\n",
       "      <th>Eligible</th>\n",
       "      <th>Panels</th>\n",
       "      <th>Difference</th>\n",
       "    </tr>\n",
       "    <tr>\n",
       "      <th>Ethnicity</th>\n",
       "      <th></th>\n",
       "      <th></th>\n",
       "      <th></th>\n",
       "    </tr>\n",
       "  </thead>\n",
       "  <tbody>\n",
       "    <tr>\n",
       "      <th>Asian</th>\n",
       "      <td>0.15</td>\n",
       "      <td>0.26</td>\n",
       "      <td>0.11</td>\n",
       "    </tr>\n",
       "    <tr>\n",
       "      <th>Black</th>\n",
       "      <td>0.18</td>\n",
       "      <td>0.08</td>\n",
       "      <td>-0.10</td>\n",
       "    </tr>\n",
       "    <tr>\n",
       "      <th>Latino</th>\n",
       "      <td>0.12</td>\n",
       "      <td>0.08</td>\n",
       "      <td>-0.04</td>\n",
       "    </tr>\n",
       "    <tr>\n",
       "      <th>White</th>\n",
       "      <td>0.54</td>\n",
       "      <td>0.54</td>\n",
       "      <td>0.00</td>\n",
       "    </tr>\n",
       "    <tr>\n",
       "      <th>Other</th>\n",
       "      <td>0.01</td>\n",
       "      <td>0.04</td>\n",
       "      <td>0.03</td>\n",
       "    </tr>\n",
       "  </tbody>\n",
       "</table>\n",
       "</div>"
      ],
      "text/plain": [
       "           Eligible  Panels  Difference\n",
       "Ethnicity                              \n",
       "Asian          0.15    0.26        0.11\n",
       "Black          0.18    0.08       -0.10\n",
       "Latino         0.12    0.08       -0.04\n",
       "White          0.54    0.54        0.00\n",
       "Other          0.01    0.04        0.03"
      ]
     },
     "execution_count": 7,
     "metadata": {},
     "output_type": "execute_result"
    }
   ],
   "source": [
    "jury['Difference'] = jury['Panels'] - jury['Eligible']\n",
    "jury"
   ]
  },
  {
   "cell_type": "code",
   "execution_count": 8,
   "metadata": {},
   "outputs": [],
   "source": [
    "def total_variation_distance(distribution_1, distribution_2):\n",
    "    return sum(np.abs(distribution_1 - distribution_2)) / 2"
   ]
  },
  {
   "cell_type": "code",
   "execution_count": 11,
   "metadata": {},
   "outputs": [
    {
     "data": {
      "text/plain": [
       "0.14"
      ]
     },
     "execution_count": 11,
     "metadata": {},
     "output_type": "execute_result"
    }
   ],
   "source": [
    "total_variation_distance(jury['Panels'], jury['Eligible'])"
   ]
  },
  {
   "cell_type": "code",
   "execution_count": 89,
   "metadata": {},
   "outputs": [],
   "source": [
    "# Test by simulation\n",
    "def sim_jury_panel_prop(jury, n=1453):\n",
    "    ''' Returns ethnicity proporions for simulated jury'''\n",
    "    sim_panel = np.random.choice(jury.index.values, size=n,\n",
    "                                  p=jury.Eligible.values) \n",
    "    sim_counts = Counter(sim_panel)\n",
    "    return [sim_counts[ethnicity] / n for ethnicity in jury.index.values]"
   ]
  },
  {
   "cell_type": "code",
   "execution_count": 97,
   "metadata": {},
   "outputs": [],
   "source": [
    "var_dists = [total_variation_distance(sim_jury_panel_prop(jury), jury['Eligible'])\n",
    "             for _ in range(10000)]"
   ]
  },
  {
   "cell_type": "code",
   "execution_count": 98,
   "metadata": {},
   "outputs": [
    {
     "data": {
      "image/png": "[encoded data removed]",
      "text/plain": [
       "<Figure size 432x288 with 1 Axes>"
      ]
     },
     "metadata": {},
     "output_type": "display_data"
    }
   ],
   "source": [
    "plt.hist(var_dists, bins=30)\n",
    "plt.show()"
   ]
  },
  {
   "cell_type": "code",
   "execution_count": null,
   "metadata": {},
   "outputs": [],
   "source": []
  }
 ],
 "metadata": {
  "kernelspec": {
   "display_name": "Python 3",
   "language": "python",
   "name": "python3"
  },
  "language_info": {
   "codemirror_mode": {
    "name": "ipython",
    "version": 3
   },
   "file_extension": ".py",
   "mimetype": "text/x-python",
   "name": "python",
   "nbconvert_exporter": "python",
   "pygments_lexer": "ipython3",
   "version": "3.6.3"
  },
  "varInspector": {
   "cols": {
    "lenName": 16,
    "lenType": 16,
    "lenVar": 40
   },
   "kernels_config": {
    "python": {
     "delete_cmd_postfix": "",
     "delete_cmd_prefix": "del ",
     "library": "var_list.py",
     "varRefreshCmd": "print(var_dic_list())"
    },
    "r": {
     "delete_cmd_postfix": ") ",
     "delete_cmd_prefix": "rm(",
     "library": "var_list.r",
     "varRefreshCmd": "cat(var_dic_list()) "
    }
   },
   "types_to_exclude": [
    "module",
    "function",
    "builtin_function_or_method",
    "instance",
    "_Feature"
   ],
   "window_display": false
  }
 },
 "nbformat": 4,
 "nbformat_minor": 2
}
